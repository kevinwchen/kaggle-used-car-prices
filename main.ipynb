{
 "cells": [
  {
   "cell_type": "code",
   "execution_count": 18,
   "metadata": {},
   "outputs": [],
   "source": [
    "import os\n",
    "import zipfile\n",
    "import pandas as pd\n",
    "import numpy as np\n",
    "import matplotlib.pyplot as plt\n",
    "import sklearn"
   ]
  },
  {
   "cell_type": "code",
   "execution_count": 2,
   "metadata": {},
   "outputs": [],
   "source": [
    "# Download data and unzip\n",
    "current_dir = os.getcwd()\n",
    "data_dir = \"./data\"\n",
    "zip = os.path.join(data_dir, \"playground-series-s4e9.zip\")\n",
    "\n",
    "if not os.path.exists(data_dir):\n",
    "    os.mkdir(\"./data\")\n",
    "    os.system(\n",
    "        f\"kaggle competitions download -c playground-series-s4e9 -p {data_dir}\"\n",
    "    )\n",
    "    with zipfile.ZipFile(zip) as zip_ref:\n",
    "        zip_ref.extractall(data_dir)\n",
    "    os.remove(zip)"
   ]
  },
  {
   "cell_type": "code",
   "execution_count": 71,
   "metadata": {},
   "outputs": [],
   "source": [
    "data_train = pd.read_csv(os.path.join(\"data\", \"train.csv\"))\n",
    "data_test = pd.read_csv(os.path.join(\"data\", \"test.csv\"))\n",
    "sample_submission = pd.read_csv(os.path.join(\"data\", \"sample_submission.csv\"))"
   ]
  },
  {
   "cell_type": "markdown",
   "metadata": {},
   "source": [
    "# Exploratory Data Analysis"
   ]
  },
  {
   "cell_type": "markdown",
   "metadata": {},
   "source": [
    "- brand -> target encoding with mean price across brand\n",
    "- engine information col\n",
    "\n",
    "- ext_col ignore for now\n",
    "- int_col ignore for now\n",
    "\n",
    "- accident col one hot encode\n",
    "- clean_title col one hot encode\n",
    "- remove any NaNs at the end"
   ]
  },
  {
   "cell_type": "code",
   "execution_count": 72,
   "metadata": {},
   "outputs": [
    {
     "data": {
      "text/html": [
       "<div>\n",
       "<style scoped>\n",
       "    .dataframe tbody tr th:only-of-type {\n",
       "        vertical-align: middle;\n",
       "    }\n",
       "\n",
       "    .dataframe tbody tr th {\n",
       "        vertical-align: top;\n",
       "    }\n",
       "\n",
       "    .dataframe thead th {\n",
       "        text-align: right;\n",
       "    }\n",
       "</style>\n",
       "<table border=\"1\" class=\"dataframe\">\n",
       "  <thead>\n",
       "    <tr style=\"text-align: right;\">\n",
       "      <th></th>\n",
       "      <th>id</th>\n",
       "      <th>brand</th>\n",
       "      <th>model</th>\n",
       "      <th>model_year</th>\n",
       "      <th>milage</th>\n",
       "      <th>fuel_type</th>\n",
       "      <th>engine</th>\n",
       "      <th>transmission</th>\n",
       "      <th>ext_col</th>\n",
       "      <th>int_col</th>\n",
       "      <th>accident</th>\n",
       "      <th>clean_title</th>\n",
       "      <th>price</th>\n",
       "    </tr>\n",
       "  </thead>\n",
       "  <tbody>\n",
       "    <tr>\n",
       "      <th>0</th>\n",
       "      <td>0</td>\n",
       "      <td>MINI</td>\n",
       "      <td>Cooper S Base</td>\n",
       "      <td>2007</td>\n",
       "      <td>213000</td>\n",
       "      <td>Gasoline</td>\n",
       "      <td>172.0HP 1.6L 4 Cylinder Engine Gasoline Fuel</td>\n",
       "      <td>A/T</td>\n",
       "      <td>Yellow</td>\n",
       "      <td>Gray</td>\n",
       "      <td>None reported</td>\n",
       "      <td>Yes</td>\n",
       "      <td>4200</td>\n",
       "    </tr>\n",
       "    <tr>\n",
       "      <th>1</th>\n",
       "      <td>1</td>\n",
       "      <td>Lincoln</td>\n",
       "      <td>LS V8</td>\n",
       "      <td>2002</td>\n",
       "      <td>143250</td>\n",
       "      <td>Gasoline</td>\n",
       "      <td>252.0HP 3.9L 8 Cylinder Engine Gasoline Fuel</td>\n",
       "      <td>A/T</td>\n",
       "      <td>Silver</td>\n",
       "      <td>Beige</td>\n",
       "      <td>At least 1 accident or damage reported</td>\n",
       "      <td>Yes</td>\n",
       "      <td>4999</td>\n",
       "    </tr>\n",
       "    <tr>\n",
       "      <th>2</th>\n",
       "      <td>2</td>\n",
       "      <td>Chevrolet</td>\n",
       "      <td>Silverado 2500 LT</td>\n",
       "      <td>2002</td>\n",
       "      <td>136731</td>\n",
       "      <td>E85 Flex Fuel</td>\n",
       "      <td>320.0HP 5.3L 8 Cylinder Engine Flex Fuel Capab...</td>\n",
       "      <td>A/T</td>\n",
       "      <td>Blue</td>\n",
       "      <td>Gray</td>\n",
       "      <td>None reported</td>\n",
       "      <td>Yes</td>\n",
       "      <td>13900</td>\n",
       "    </tr>\n",
       "    <tr>\n",
       "      <th>3</th>\n",
       "      <td>3</td>\n",
       "      <td>Genesis</td>\n",
       "      <td>G90 5.0 Ultimate</td>\n",
       "      <td>2017</td>\n",
       "      <td>19500</td>\n",
       "      <td>Gasoline</td>\n",
       "      <td>420.0HP 5.0L 8 Cylinder Engine Gasoline Fuel</td>\n",
       "      <td>Transmission w/Dual Shift Mode</td>\n",
       "      <td>Black</td>\n",
       "      <td>Black</td>\n",
       "      <td>None reported</td>\n",
       "      <td>Yes</td>\n",
       "      <td>45000</td>\n",
       "    </tr>\n",
       "    <tr>\n",
       "      <th>4</th>\n",
       "      <td>4</td>\n",
       "      <td>Mercedes-Benz</td>\n",
       "      <td>Metris Base</td>\n",
       "      <td>2021</td>\n",
       "      <td>7388</td>\n",
       "      <td>Gasoline</td>\n",
       "      <td>208.0HP 2.0L 4 Cylinder Engine Gasoline Fuel</td>\n",
       "      <td>7-Speed A/T</td>\n",
       "      <td>Black</td>\n",
       "      <td>Beige</td>\n",
       "      <td>None reported</td>\n",
       "      <td>Yes</td>\n",
       "      <td>97500</td>\n",
       "    </tr>\n",
       "    <tr>\n",
       "      <th>...</th>\n",
       "      <td>...</td>\n",
       "      <td>...</td>\n",
       "      <td>...</td>\n",
       "      <td>...</td>\n",
       "      <td>...</td>\n",
       "      <td>...</td>\n",
       "      <td>...</td>\n",
       "      <td>...</td>\n",
       "      <td>...</td>\n",
       "      <td>...</td>\n",
       "      <td>...</td>\n",
       "      <td>...</td>\n",
       "      <td>...</td>\n",
       "    </tr>\n",
       "    <tr>\n",
       "      <th>188528</th>\n",
       "      <td>188528</td>\n",
       "      <td>Cadillac</td>\n",
       "      <td>Escalade ESV Platinum</td>\n",
       "      <td>2017</td>\n",
       "      <td>49000</td>\n",
       "      <td>Gasoline</td>\n",
       "      <td>420.0HP 6.2L 8 Cylinder Engine Gasoline Fuel</td>\n",
       "      <td>Transmission w/Dual Shift Mode</td>\n",
       "      <td>White</td>\n",
       "      <td>Beige</td>\n",
       "      <td>None reported</td>\n",
       "      <td>Yes</td>\n",
       "      <td>27500</td>\n",
       "    </tr>\n",
       "    <tr>\n",
       "      <th>188529</th>\n",
       "      <td>188529</td>\n",
       "      <td>Mercedes-Benz</td>\n",
       "      <td>AMG C 43 AMG C 43 4MATIC</td>\n",
       "      <td>2018</td>\n",
       "      <td>28600</td>\n",
       "      <td>Gasoline</td>\n",
       "      <td>385.0HP 3.0L V6 Cylinder Engine Gasoline Fuel</td>\n",
       "      <td>8-Speed A/T</td>\n",
       "      <td>White</td>\n",
       "      <td>Black</td>\n",
       "      <td>At least 1 accident or damage reported</td>\n",
       "      <td>Yes</td>\n",
       "      <td>30000</td>\n",
       "    </tr>\n",
       "    <tr>\n",
       "      <th>188530</th>\n",
       "      <td>188530</td>\n",
       "      <td>Mercedes-Benz</td>\n",
       "      <td>AMG GLC 63 Base 4MATIC</td>\n",
       "      <td>2021</td>\n",
       "      <td>13650</td>\n",
       "      <td>Gasoline</td>\n",
       "      <td>469.0HP 4.0L 8 Cylinder Engine Gasoline Fuel</td>\n",
       "      <td>7-Speed A/T</td>\n",
       "      <td>White</td>\n",
       "      <td>Black</td>\n",
       "      <td>None reported</td>\n",
       "      <td>Yes</td>\n",
       "      <td>86900</td>\n",
       "    </tr>\n",
       "    <tr>\n",
       "      <th>188531</th>\n",
       "      <td>188531</td>\n",
       "      <td>Audi</td>\n",
       "      <td>S5 3.0T Prestige</td>\n",
       "      <td>2022</td>\n",
       "      <td>13895</td>\n",
       "      <td>Gasoline</td>\n",
       "      <td>3.0L</td>\n",
       "      <td>1-Speed Automatic</td>\n",
       "      <td>Daytona Gray Pearl Effect</td>\n",
       "      <td>Black</td>\n",
       "      <td>None reported</td>\n",
       "      <td>NaN</td>\n",
       "      <td>84900</td>\n",
       "    </tr>\n",
       "    <tr>\n",
       "      <th>188532</th>\n",
       "      <td>188532</td>\n",
       "      <td>Porsche</td>\n",
       "      <td>Macan Base</td>\n",
       "      <td>2016</td>\n",
       "      <td>59500</td>\n",
       "      <td>Gasoline</td>\n",
       "      <td>252.0HP 2.0L 4 Cylinder Engine Gasoline Fuel</td>\n",
       "      <td>Transmission w/Dual Shift Mode</td>\n",
       "      <td>White</td>\n",
       "      <td>Black</td>\n",
       "      <td>None reported</td>\n",
       "      <td>Yes</td>\n",
       "      <td>28995</td>\n",
       "    </tr>\n",
       "  </tbody>\n",
       "</table>\n",
       "<p>188533 rows × 13 columns</p>\n",
       "</div>"
      ],
      "text/plain": [
       "            id          brand                     model  model_year  milage  \\\n",
       "0            0           MINI             Cooper S Base        2007  213000   \n",
       "1            1        Lincoln                     LS V8        2002  143250   \n",
       "2            2      Chevrolet         Silverado 2500 LT        2002  136731   \n",
       "3            3        Genesis          G90 5.0 Ultimate        2017   19500   \n",
       "4            4  Mercedes-Benz               Metris Base        2021    7388   \n",
       "...        ...            ...                       ...         ...     ...   \n",
       "188528  188528       Cadillac     Escalade ESV Platinum        2017   49000   \n",
       "188529  188529  Mercedes-Benz  AMG C 43 AMG C 43 4MATIC        2018   28600   \n",
       "188530  188530  Mercedes-Benz    AMG GLC 63 Base 4MATIC        2021   13650   \n",
       "188531  188531           Audi          S5 3.0T Prestige        2022   13895   \n",
       "188532  188532        Porsche                Macan Base        2016   59500   \n",
       "\n",
       "            fuel_type                                             engine  \\\n",
       "0            Gasoline       172.0HP 1.6L 4 Cylinder Engine Gasoline Fuel   \n",
       "1            Gasoline       252.0HP 3.9L 8 Cylinder Engine Gasoline Fuel   \n",
       "2       E85 Flex Fuel  320.0HP 5.3L 8 Cylinder Engine Flex Fuel Capab...   \n",
       "3            Gasoline       420.0HP 5.0L 8 Cylinder Engine Gasoline Fuel   \n",
       "4            Gasoline       208.0HP 2.0L 4 Cylinder Engine Gasoline Fuel   \n",
       "...               ...                                                ...   \n",
       "188528       Gasoline       420.0HP 6.2L 8 Cylinder Engine Gasoline Fuel   \n",
       "188529       Gasoline      385.0HP 3.0L V6 Cylinder Engine Gasoline Fuel   \n",
       "188530       Gasoline       469.0HP 4.0L 8 Cylinder Engine Gasoline Fuel   \n",
       "188531       Gasoline                                               3.0L   \n",
       "188532       Gasoline       252.0HP 2.0L 4 Cylinder Engine Gasoline Fuel   \n",
       "\n",
       "                          transmission                    ext_col int_col  \\\n",
       "0                                  A/T                     Yellow    Gray   \n",
       "1                                  A/T                     Silver   Beige   \n",
       "2                                  A/T                       Blue    Gray   \n",
       "3       Transmission w/Dual Shift Mode                      Black   Black   \n",
       "4                          7-Speed A/T                      Black   Beige   \n",
       "...                                ...                        ...     ...   \n",
       "188528  Transmission w/Dual Shift Mode                      White   Beige   \n",
       "188529                     8-Speed A/T                      White   Black   \n",
       "188530                     7-Speed A/T                      White   Black   \n",
       "188531               1-Speed Automatic  Daytona Gray Pearl Effect   Black   \n",
       "188532  Transmission w/Dual Shift Mode                      White   Black   \n",
       "\n",
       "                                      accident clean_title  price  \n",
       "0                                None reported         Yes   4200  \n",
       "1       At least 1 accident or damage reported         Yes   4999  \n",
       "2                                None reported         Yes  13900  \n",
       "3                                None reported         Yes  45000  \n",
       "4                                None reported         Yes  97500  \n",
       "...                                        ...         ...    ...  \n",
       "188528                           None reported         Yes  27500  \n",
       "188529  At least 1 accident or damage reported         Yes  30000  \n",
       "188530                           None reported         Yes  86900  \n",
       "188531                           None reported         NaN  84900  \n",
       "188532                           None reported         Yes  28995  \n",
       "\n",
       "[188533 rows x 13 columns]"
      ]
     },
     "metadata": {},
     "output_type": "display_data"
    }
   ],
   "source": [
    "display(data_train)"
   ]
  },
  {
   "cell_type": "code",
   "execution_count": 51,
   "metadata": {},
   "outputs": [],
   "source": [
    "mean_prices = []\n",
    "for brand in data_train.brand.unique():\n",
    "    mean_prices.append(data_train[data_train['brand'] == brand].mean(numeric_only=True)['price'])"
   ]
  },
  {
   "cell_type": "code",
   "execution_count": 64,
   "metadata": {},
   "outputs": [
    {
     "data": {
      "text/plain": [
       "(array([ 8., 18., 11.,  6.,  4.,  2.,  1.,  0.,  0.,  0.,  2.,  2.,  1.,\n",
       "         0.,  1.,  1.]),\n",
       " array([ 14652.41666667,  24336.640625  ,  34020.86458333,  43705.08854167,\n",
       "         53389.3125    ,  63073.53645833,  72757.76041667,  82441.984375  ,\n",
       "         92126.20833333, 101810.43229167, 111494.65625   , 121178.88020833,\n",
       "        130863.10416667, 140547.328125  , 150231.55208333, 159915.77604167,\n",
       "        169600.        ]),\n",
       " <BarContainer object of 16 artists>)"
      ]
     },
     "execution_count": 64,
     "metadata": {},
     "output_type": "execute_result"
    },
    {
     "data": {
      "image/png": "[encoded data removed]",
      "text/plain": [
       "<Figure size 640x480 with 1 Axes>"
      ]
     },
     "metadata": {},
     "output_type": "display_data"
    }
   ],
   "source": [
    "plt.hist(mean_prices,bins=16)"
   ]
  },
  {
   "cell_type": "code",
   "execution_count": 50,
   "metadata": {},
   "outputs": [
    {
     "data": {
      "text/plain": [
       "25332.82861346083"
      ]
     },
     "execution_count": 50,
     "metadata": {},
     "output_type": "execute_result"
    }
   ],
   "source": [
    "data_subset = data_train[data_train['brand'] == \"Mazda\"]\n",
    "data_subset.mean(numeric_only=True)['price']"
   ]
  },
  {
   "cell_type": "code",
   "execution_count": 16,
   "metadata": {},
   "outputs": [
    {
     "name": "stdout",
     "output_type": "stream",
     "text": [
      "Gasoline\n",
      "nan\n",
      "Diesel\n",
      "Plug-In Hybrid\n",
      "Hybrid\n",
      "–\n",
      "not supported\n"
     ]
    }
   ],
   "source": [
    "data_subset = data_train[data_train['brand'] == \"Porsche\"]\n",
    "data_subset\n",
    "for i in data_subset.fuel_type.unique():\n",
    "    print(i)"
   ]
  },
  {
   "cell_type": "code",
   "execution_count": 15,
   "metadata": {},
   "outputs": [
    {
     "data": {
      "text/plain": [
       "id                  0\n",
       "brand               0\n",
       "model               0\n",
       "model_year          0\n",
       "milage              0\n",
       "fuel_type        5083\n",
       "engine              0\n",
       "transmission        0\n",
       "ext_col             0\n",
       "int_col             0\n",
       "accident         2452\n",
       "clean_title     21419\n",
       "price               0\n",
       "dtype: int64"
      ]
     },
     "execution_count": 15,
     "metadata": {},
     "output_type": "execute_result"
    }
   ],
   "source": [
    "data_train.isnull().sum()"
   ]
  }
 ],
 "metadata": {
  "kernelspec": {
   "display_name": "Python 3",
   "language": "python",
   "name": "python3"
  },
  "language_info": {
   "codemirror_mode": {
    "name": "ipython",
    "version": 3
   },
   "file_extension": ".py",
   "mimetype": "text/x-python",
   "name": "python",
   "nbconvert_exporter": "python",
   "pygments_lexer": "ipython3",
   "version": "3.11.7"
  }
 },
 "nbformat": 4,
 "nbformat_minor": 2
}
